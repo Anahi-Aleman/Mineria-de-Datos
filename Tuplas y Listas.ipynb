{
 "cells": [
  {
   "cell_type": "code",
   "execution_count": 1,
   "metadata": {},
   "outputs": [
    {
     "data": {
      "text/plain": [
       "int"
      ]
     },
     "execution_count": 1,
     "metadata": {},
     "output_type": "execute_result"
    }
   ],
   "source": [
    "entero = 4\n",
    "type(entero)"
   ]
  },
  {
   "cell_type": "code",
   "execution_count": 2,
   "metadata": {},
   "outputs": [
    {
     "data": {
      "text/plain": [
       "float"
      ]
     },
     "execution_count": 2,
     "metadata": {},
     "output_type": "execute_result"
    }
   ],
   "source": [
    "flotante = 2.2\n",
    "type(flotante)"
   ]
  },
  {
   "cell_type": "code",
   "execution_count": 4,
   "metadata": {},
   "outputs": [
    {
     "data": {
      "text/plain": [
       "bool"
      ]
     },
     "execution_count": 4,
     "metadata": {},
     "output_type": "execute_result"
    }
   ],
   "source": [
    "boleano = True\n",
    "type(boleano)"
   ]
  },
  {
   "cell_type": "code",
   "execution_count": 5,
   "metadata": {},
   "outputs": [
    {
     "data": {
      "text/plain": [
       "complex"
      ]
     },
     "execution_count": 5,
     "metadata": {},
     "output_type": "execute_result"
    }
   ],
   "source": [
    "complejo = 2.1 + 7.8j\n",
    "type(complejo)"
   ]
  },
  {
   "cell_type": "code",
   "execution_count": 12,
   "metadata": {},
   "outputs": [
    {
     "name": "stdout",
     "output_type": "stream",
     "text": [
      "1\n",
      "5\n"
     ]
    },
    {
     "data": {
      "text/plain": [
       "5"
      ]
     },
     "execution_count": 12,
     "metadata": {},
     "output_type": "execute_result"
    }
   ],
   "source": [
    "tupla = (1,2,3,4,5)\n",
    "type(tupla)\n",
    "\n",
    "print(tupla[0])\n",
    "\n",
    "print(tupla[4])\n",
    "\n",
    "tupla = (1,2,3,4,5,\"A\",\"B\",\"C\")\n",
    "tupla.index(\"A\")"
   ]
  },
  {
   "cell_type": "code",
   "execution_count": 17,
   "metadata": {},
   "outputs": [
    {
     "name": "stdout",
     "output_type": "stream",
     "text": [
      "[303, 81, 890, 185, 466, 567, 756, 746, 237, 291, 23, 736, 620, 772, 410, 681, 792, 438, 665, 339, 772, 775, 899, 390, 701, 228, 973, 58, 991, 659, 539, 754, 787, 705, 931, 976, 548, 82, 7, 58]\n"
     ]
    }
   ],
   "source": [
    "import random\n",
    "\n",
    "aleatorios = [random.randint(0,1000) for _ in range(40)]\n",
    "print(aleatorios)\n"
   ]
  },
  {
   "cell_type": "code",
   "execution_count": 48,
   "metadata": {},
   "outputs": [],
   "source": [
    "listaPares = []\n",
    "listaImpares = []\n",
    "\n",
    "def funcionParesImpares(lista):\n",
    "    i = 0 \n",
    "    while i < 40:\n",
    "        if lista[i]%2 == 0:\n",
    "            listaPares.append(lista[i])\n",
    "        else:\n",
    "            listaImpares.append(lista[i])\n",
    "        i+=1\n",
    "    listaPares.reverse()\n",
    "    listaImpares.sort()\n",
    "    print(listaPares)\n",
    "    print(listaImpares)\n",
    "        \n"
   ]
  },
  {
   "cell_type": "code",
   "execution_count": 49,
   "metadata": {},
   "outputs": [
    {
     "name": "stdout",
     "output_type": "stream",
     "text": [
      "[58, 82, 548, 976, 754, 58, 228, 390, 772, 438, 792, 410, 772, 620, 736, 746, 756, 466, 890]\n",
      "[7, 23, 81, 185, 237, 291, 303, 339, 539, 567, 659, 665, 681, 701, 705, 775, 787, 899, 931, 973, 991]\n"
     ]
    }
   ],
   "source": [
    "funcionParesImpares(aleatorios)"
   ]
  },
  {
   "cell_type": "code",
   "execution_count": 50,
   "metadata": {},
   "outputs": [
    {
     "data": {
      "text/plain": [
       "19"
      ]
     },
     "execution_count": 50,
     "metadata": {},
     "output_type": "execute_result"
    }
   ],
   "source": [
    "len(listaPares)"
   ]
  },
  {
   "cell_type": "code",
   "execution_count": 51,
   "metadata": {},
   "outputs": [
    {
     "data": {
      "text/plain": [
       "0"
      ]
     },
     "execution_count": 51,
     "metadata": {},
     "output_type": "execute_result"
    }
   ],
   "source": [
    "listaPares.count(7)"
   ]
  },
  {
   "cell_type": "code",
   "execution_count": 52,
   "metadata": {},
   "outputs": [
    {
     "data": {
      "text/plain": [
       "0"
      ]
     },
     "execution_count": 52,
     "metadata": {},
     "output_type": "execute_result"
    }
   ],
   "source": [
    "listaPares.index(58)"
   ]
  },
  {
   "cell_type": "code",
   "execution_count": 53,
   "metadata": {},
   "outputs": [],
   "source": [
    "listaPares.sort()"
   ]
  },
  {
   "cell_type": "code",
   "execution_count": 54,
   "metadata": {},
   "outputs": [
    {
     "data": {
      "text/plain": [
       "[58,\n",
       " 58,\n",
       " 82,\n",
       " 228,\n",
       " 390,\n",
       " 410,\n",
       " 438,\n",
       " 466,\n",
       " 548,\n",
       " 620,\n",
       " 736,\n",
       " 746,\n",
       " 754,\n",
       " 756,\n",
       " 772,\n",
       " 772,\n",
       " 792,\n",
       " 890,\n",
       " 976]"
      ]
     },
     "execution_count": 54,
     "metadata": {},
     "output_type": "execute_result"
    }
   ],
   "source": [
    "listaPares"
   ]
  },
  {
   "cell_type": "code",
   "execution_count": 55,
   "metadata": {},
   "outputs": [],
   "source": [
    "listaPares.reverse()"
   ]
  },
  {
   "cell_type": "code",
   "execution_count": 56,
   "metadata": {},
   "outputs": [
    {
     "data": {
      "text/plain": [
       "[976,\n",
       " 890,\n",
       " 792,\n",
       " 772,\n",
       " 772,\n",
       " 756,\n",
       " 754,\n",
       " 746,\n",
       " 736,\n",
       " 620,\n",
       " 548,\n",
       " 466,\n",
       " 438,\n",
       " 410,\n",
       " 390,\n",
       " 228,\n",
       " 82,\n",
       " 58,\n",
       " 58]"
      ]
     },
     "execution_count": 56,
     "metadata": {},
     "output_type": "execute_result"
    }
   ],
   "source": [
    "listaPares"
   ]
  },
  {
   "cell_type": "code",
   "execution_count": null,
   "metadata": {},
   "outputs": [],
   "source": []
  }
 ],
 "metadata": {
  "kernelspec": {
   "display_name": "Python 3",
   "language": "python",
   "name": "python3"
  },
  "language_info": {
   "codemirror_mode": {
    "name": "ipython",
    "version": 3
   },
   "file_extension": ".py",
   "mimetype": "text/x-python",
   "name": "python",
   "nbconvert_exporter": "python",
   "pygments_lexer": "ipython3",
   "version": "3.8.3"
  }
 },
 "nbformat": 4,
 "nbformat_minor": 4
}
