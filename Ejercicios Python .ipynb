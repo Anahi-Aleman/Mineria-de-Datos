{
 "cells": [
  {
   "cell_type": "markdown",
   "metadata": {},
   "source": [
    "Ejercicio 1:\n",
    "Realiza una variable con tu matricula y realiza una secuencia de imprimir con tu nombre y tu matricula concatenados."
   ]
  },
  {
   "cell_type": "code",
   "execution_count": 5,
   "metadata": {},
   "outputs": [
    {
     "name": "stdout",
     "output_type": "stream",
     "text": [
      "1821952 Anahí Alemán Alvarado\n"
     ]
    }
   ],
   "source": [
    "matricula= 1821952\n",
    "nombre= \"Anahí Alemán Alvarado\"\n",
    "print(matricula, nombre)"
   ]
  },
  {
   "cell_type": "markdown",
   "metadata": {},
   "source": [
    "Ejercicio 2:\n",
    "Pidiendo el input del usuario pide dos números y crea una pequeña calculadora con los operadores básicos de suma, resta, multiplicación, división, y exponente."
   ]
  },
  {
   "cell_type": "code",
   "execution_count": 20,
   "metadata": {},
   "outputs": [
    {
     "name": "stdout",
     "output_type": "stream",
     "text": [
      "Introduce un número:5\n",
      "Introduce un segundo número:3\n",
      "La Suma es: 8 \n",
      "La resta es: 2 \n",
      "La multiplicacion es: 15 \n",
      "La division es: 1.666667 \n",
      "El exponente es: 125.000000\n"
     ]
    }
   ],
   "source": [
    "num1= int(input(\"Introduce un número:\"))\n",
    "num2= int(input(\"Introduce un segundo número:\"))\n",
    "suma= num1+num2\n",
    "resta= num1-num2\n",
    "multiplicacion= num1*num2\n",
    "division= num1/num2\n",
    "exponente= num1**num2\n",
    "\n",
    "\n",
    "resultados =\"La Suma es: %d \\nLa resta es: %d \\nLa multiplicacion es: %d \\nLa division es: %f \\nEl exponente es: %f\" %(suma,resta,multiplicacion,division,exponente)\n",
    "print(resultados)"
   ]
  },
  {
   "cell_type": "markdown",
   "metadata": {},
   "source": [
    "Ejercicio 3:\n",
    "Con loop while o for, realiza una lista de 10 numeros multiplos de 3, y después realiza una función de loop que sume todos los números dentro del arreglo"
   ]
  },
  {
   "cell_type": "code",
   "execution_count": 23,
   "metadata": {},
   "outputs": [
    {
     "name": "stdout",
     "output_type": "stream",
     "text": [
      "[3, 6, 9, 12, 15, 18, 21, 24, 27, 30] 165\n"
     ]
    }
   ],
   "source": [
    "i=0\n",
    "multiplo=0\n",
    "lista=[]\n",
    "while i<10:\n",
    "    multiplo=multiplo+3\n",
    "    lista.append(multiplo)\n",
    "    i+=1\n",
    "    \n",
    "i=0\n",
    "suma=0\n",
    "while i<10:\n",
    "    suma=suma+lista[i]\n",
    "    i+=1\n",
    "    \n",
    "print(lista, suma)"
   ]
  },
  {
   "cell_type": "markdown",
   "metadata": {},
   "source": [
    "Ejercicio 4:\n",
    "Con una función de if else, revisar si un número es par o es impar.\n",
    "Con una función de if else, revisar si un número es primo o no"
   ]
  },
  {
   "cell_type": "code",
   "execution_count": 30,
   "metadata": {},
   "outputs": [
    {
     "name": "stdout",
     "output_type": "stream",
     "text": [
      "Ingresa un numero:4\n",
      "El numero 4 es par\n",
      "Ingresa un numero:2\n",
      "El numero 2 es primo\n"
     ]
    }
   ],
   "source": [
    "numero= int(input(\"Ingresa un numero:\"))\n",
    "if numero%2==0:\n",
    "    print(\"El numero\",numero,\"es par\")\n",
    "else:\n",
    "    print(\"El numero\", numero,\"es impar\")\n",
    "\n",
    "    \n",
    "\n",
    "numero= int(input(\"Ingresa un numero:\"))\n",
    "contador = 0\n",
    "for i in range(1,numero+1):\n",
    "    if (numero% i)==0:\n",
    "        contador = contador + 1\n",
    "\n",
    "if contador==2:\n",
    "    print (\"El numero\",numero,\"es primo\")\n",
    "else:\n",
    "    print (\"El numero\",numero,\"no es primo\")\n"
   ]
  },
  {
   "cell_type": "markdown",
   "metadata": {},
   "source": [
    "Ejercicio 5\n",
    "Utilizando diferentes clases en python, crea una calculadora con los operadores básicos de suma, resta, multiplicación, división, y exponente"
   ]
  },
  {
   "cell_type": "code",
   "execution_count": 34,
   "metadata": {},
   "outputs": [
    {
     "name": "stdout",
     "output_type": "stream",
     "text": [
      "Seleccionar operación：\n",
      "1、Sumar\n",
      "2、Restar\n",
      "3、Multiplicación\n",
      "4、División\n",
      "5、Exponente\n",
      "Ingrese su elección (1/2/3/4/5):5\n",
      "Ingrese el primer número: 4\n",
      "Ingrese el segundo número: 2\n",
      "4 ** 2 = 16\n"
     ]
    }
   ],
   "source": [
    "\n",
    "def add(x, y):\n",
    "   \"\"\"Suma\"\"\"\n",
    "\n",
    "   return x + y\n",
    "\n",
    "def subtract(x, y):\n",
    "   \"\"\"Resta\"\"\"\n",
    "\n",
    "   return x - y\n",
    "\n",
    "def multiply(x, y):\n",
    "   \"\"\"Multiplicación\"\"\"\n",
    "\n",
    "   return x * y\n",
    "\n",
    "def divide(x, y):\n",
    "   \"\"\"División\"\"\"\n",
    "\n",
    "   return x / y\n",
    "\n",
    "def exp(x,y):\n",
    "   \"\"\"Exponente\"\"\" \n",
    "   return x**y\n",
    "\n",
    "print(\"Seleccionar operación：\")\n",
    "print(\"1、Sumar\")\n",
    "print(\"2、Restar\")\n",
    "print(\"3、Multiplicación\")\n",
    "print(\"4、División\")\n",
    "print(\"5、Exponente\")\n",
    "\n",
    "choice = input(\"Ingrese su elección (1/2/3/4/5):\")\n",
    "\n",
    "num1 = int(input(\"Ingrese el primer número: \"))\n",
    "num2 = int(input(\"Ingrese el segundo número: \"))\n",
    "\n",
    "if choice == '1':\n",
    "   print(num1,\"+\",num2,\"=\", add(num1,num2))\n",
    "\n",
    "elif choice == '2':\n",
    "   print(num1,\"-\",num2,\"=\", subtract(num1,num2))\n",
    "\n",
    "elif choice == '3':\n",
    "   print(num1,\"*\",num2,\"=\", multiply(num1,num2))\n",
    "\n",
    "elif choice == '4':\n",
    "   print(num1,\"/\",num2,\"=\", divide(num1,num2))\n",
    "elif choice == '5':\n",
    "   print(num1,\"**\",num2,\"=\",exp(num1,num2))\n",
    "else:\n",
    "    print(\"Salir\") \n"
   ]
  },
  {
   "cell_type": "markdown",
   "metadata": {},
   "source": [
    "Tuplas\n",
    "Crear una variable flotante, integer, boleana y compleja e imprimir el tipo de variable que es.\n",
    "\n",
    "Crear una tupla con valores enteros imprimir el primer y ultimo valor.\n",
    "\n",
    "Añadir 3 valores de string a la tupla.\n",
    "\n",
    "Verificar si una variable existe dentro de la tupla."
   ]
  },
  {
   "cell_type": "code",
   "execution_count": 55,
   "metadata": {},
   "outputs": [
    {
     "name": "stdout",
     "output_type": "stream",
     "text": [
      "<class 'int'>\n",
      "<class 'float'>\n",
      "<class 'bool'>\n",
      "<class 'complex'>\n",
      "1\n",
      "5\n"
     ]
    },
    {
     "data": {
      "text/plain": [
       "5"
      ]
     },
     "execution_count": 55,
     "metadata": {},
     "output_type": "execute_result"
    }
   ],
   "source": [
    "entero = 4\n",
    "print(type(entero))\n",
    "\n",
    "flotante = 2.2\n",
    "print(type(flotante))\n",
    "\n",
    "boleano = True\n",
    "print(type(boleano))\n",
    "\n",
    "complejo = 2.1 + 7.8j\n",
    "print(type(complejo))\n",
    "\n",
    "tupla = (1,2,3,4,5)\n",
    "type(tupla)\n",
    "\n",
    "print(tupla[0])\n",
    "\n",
    "print(tupla[4])\n",
    "\n",
    "tupla = (1,2,3,4,5,\"A\",\"B\",\"C\")\n",
    "tupla.index(\"A\")\n"
   ]
  },
  {
   "cell_type": "markdown",
   "metadata": {},
   "source": [
    "Listas\n",
    "Crear una lista con 40 elementos aleatorios enteros.\n",
    "\n",
    "Con una funcion (def) crear dos listas nuevas a partir de la lista creada por numeros aleatorios, en la cual en una esten los elementos pares, y en la otra los elementos impares.\n",
    "\n",
    "Crear dos variables con la longitud de ambas listas nuevas e imprimir las variables.\n",
    "\n",
    "Ordenar los elementos de la lista par de mayor a menor, y los de la lista impar de menor a mayor.\n",
    "\n",
    "Utilizar al menos cuatro de las funciones de listas en python en la lista original de 40 elementos."
   ]
  },
  {
   "cell_type": "code",
   "execution_count": 61,
   "metadata": {},
   "outputs": [
    {
     "name": "stdout",
     "output_type": "stream",
     "text": [
      "[462, 709, 610, 332, 414, 708, 565, 501, 461, 722, 287, 212, 271, 671, 818, 877, 726, 470, 526, 826, 776, 890, 876, 782, 7, 516, 347, 624, 295, 37, 254, 814, 496, 353, 344, 366, 365, 537, 808, 59]\n",
      "[808, 366, 344, 496, 814, 254, 624, 516, 782, 876, 890, 776, 826, 526, 470, 726, 818, 212, 722, 708, 414, 332, 610, 462]\n",
      "[7, 37, 59, 271, 287, 295, 347, 353, 365, 461, 501, 537, 565, 671, 709, 877]\n"
     ]
    },
    {
     "data": {
      "text/plain": [
       "[212,\n",
       " 254,\n",
       " 332,\n",
       " 344,\n",
       " 366,\n",
       " 414,\n",
       " 462,\n",
       " 470,\n",
       " 496,\n",
       " 516,\n",
       " 526,\n",
       " 610,\n",
       " 624,\n",
       " 708,\n",
       " 722,\n",
       " 726,\n",
       " 776,\n",
       " 782,\n",
       " 808,\n",
       " 814,\n",
       " 818,\n",
       " 826,\n",
       " 876,\n",
       " 890]"
      ]
     },
     "execution_count": 61,
     "metadata": {},
     "output_type": "execute_result"
    }
   ],
   "source": [
    "import random\n",
    "\n",
    "aleatorios = [random.randint(0,1000) for _ in range(40)]\n",
    "print(aleatorios)\n",
    "listaPares = []\n",
    "listaImpares = []\n",
    "\n",
    "def funcionParesImpares(lista):\n",
    "    i = 0 \n",
    "    while i < 40:\n",
    "        if lista[i]%2 == 0:\n",
    "            listaPares.append(lista[i])\n",
    "        else:\n",
    "            listaImpares.append(lista[i])\n",
    "        i+=1\n",
    "    listaPares.reverse()\n",
    "    listaImpares.sort()\n",
    "    print(listaPares)\n",
    "    print(listaImpares)\n",
    "\n",
    "funcionParesImpares(aleatorios)\n",
    "len(listaPares)\n",
    "listaPares.count(7)\n",
    "listaPares.index(min(listaPares))\n",
    "listaPares.sort()\n",
    "listaPares"
   ]
  },
  {
   "cell_type": "markdown",
   "metadata": {},
   "source": [
    "Diccionarios\n",
    "Crear un diccionario de 6 personas que conozcas con su primer nombre y su edad.\n",
    "\n",
    "Crear una lista con los valores de la edad y reacomodar la lista de menor a mayor valor.\n",
    "\n",
    "Usando el diccionario y un loop, imprimir solo los nombres.\n",
    "\n",
    "Añadir dos personas nuevas a tu diccionario, incluyendo edad."
   ]
  },
  {
   "cell_type": "code",
   "execution_count": 46,
   "metadata": {},
   "outputs": [
    {
     "name": "stdout",
     "output_type": "stream",
     "text": [
      "[11, 21, 25, 27, 30, 32]\n",
      "{'nombre1': 'Anahi', 'edad': 21}\n",
      "{'nombre2': 'Juanjo', 'edad': 27}\n",
      "{'nombre3': 'Yazmin', 'edad': 25}\n",
      "{'nombre4': 'Nallely', 'edad': 30}\n",
      "{'nombre5': 'Maricarmen', 'edad': 32}\n",
      "{'nombre6': 'Bobby', 'edad': 11}\n"
     ]
    },
    {
     "data": {
      "text/plain": [
       "({'nombre1': 'Anahi', 'edad': 21},\n",
       " {'nombre2': 'Juanjo', 'edad': 27},\n",
       " {'nombre3': 'Yazmin', 'edad': 25},\n",
       " {'nombre4': 'Nallely', 'edad': 30},\n",
       " {'nombre5': 'Maricarmen', 'edad': 32},\n",
       " {'nombre6': 'Bobby', 'edad': 11},\n",
       " {'nombre7': 'Jose', 'edad': 69},\n",
       " {'nombre8': 'Lizbeth', 'edad': 20})"
      ]
     },
     "execution_count": 46,
     "metadata": {},
     "output_type": "execute_result"
    }
   ],
   "source": [
    "diccionario = dict()\n",
    "diccionario = [{'nombre':'Anahi', 'edad':21}, {'nombre':'Juanjo', 'edad':27}, {'nombre':'Yazmin', 'edad':25}, \n",
    "               {'nombre':'Nallely', 'edad':30},{'nombre':'Maricarmen', 'edad':32},{'nombre':'Bobby', 'edad':11}]\n",
    "diccionario\n",
    "\n",
    "edades=[21,27,25,30,32,11]\n",
    "ordenados=sorted(edades)\n",
    "print(ordenados)\n",
    "\n",
    "diccionario_ordenado = [{'nombre':'Bobby', 'edad':11},{'nombre':'Anahi', 'edad':21},{'nombre':'Yazmin', 'edad':25},\n",
    "                        {'nombre':'Juanjo', 'edad':27},{'nombre':'Nallely', 'edad':30},{'nombre':'Maricarmen', 'edad':32}] \n",
    "\n",
    "diccionario_ordenado\n",
    "\n",
    "diccionarioOf = ({'nombre1':'Anahi', 'edad':21}, {'nombre2':'Juanjo', 'edad':27}, {'nombre3':'Yazmin', 'edad':25}, \n",
    "               {'nombre4':'Nallely', 'edad':30},{'nombre5':'Maricarmen', 'edad':32},{'nombre6':'Bobby', 'edad':11})\n",
    "for v in diccionarioOf:\n",
    "    print(v)\n",
    "    \n",
    "diccionarioNuevo = ({'nombre1':'Anahi', 'edad':21}, {'nombre2':'Juanjo', 'edad':27}, {'nombre3':'Yazmin', 'edad':25}, \n",
    "               {'nombre4':'Nallely', 'edad':30},{'nombre5':'Maricarmen', 'edad':32},{'nombre6':'Bobby', 'edad':11}, {'nombre7':'Jose', 'edad':69},{'nombre8':'Lizbeth', 'edad':20})\n",
    "\n",
    "diccionarioNuevo"
   ]
  },
  {
   "cell_type": "markdown",
   "metadata": {},
   "source": [
    "Sets\n",
    "Crea un set con 100 numeros aleatorios enteros del 1 al 25.\n",
    "\n",
    "Comprueba la longitud de tu set.\n",
    "\n",
    "Crea una lista de 5 numeros aleatorios del 1 al 10 y comprueba si cada valor aparece en el set inicial."
   ]
  },
  {
   "cell_type": "code",
   "execution_count": 49,
   "metadata": {},
   "outputs": [
    {
     "name": "stdout",
     "output_type": "stream",
     "text": [
      "15\n",
      "25\n",
      "19\n",
      "25\n",
      "15\n",
      "6\n",
      "5\n",
      "25\n",
      "12\n",
      "17\n",
      "8\n",
      "3\n",
      "1\n",
      "24\n",
      "15\n",
      "5\n",
      "13\n",
      "20\n",
      "13\n",
      "12\n",
      "4\n",
      "7\n",
      "16\n",
      "14\n",
      "10\n",
      "4\n",
      "25\n",
      "9\n",
      "12\n",
      "5\n",
      "10\n",
      "6\n",
      "20\n",
      "19\n",
      "20\n",
      "9\n",
      "10\n",
      "15\n",
      "19\n",
      "6\n",
      "25\n",
      "25\n",
      "3\n",
      "6\n",
      "20\n",
      "23\n",
      "20\n",
      "16\n",
      "22\n",
      "9\n",
      "18\n",
      "16\n",
      "21\n",
      "25\n",
      "20\n",
      "7\n",
      "2\n",
      "3\n",
      "25\n",
      "1\n",
      "25\n",
      "24\n",
      "25\n",
      "20\n",
      "24\n",
      "6\n",
      "7\n",
      "10\n",
      "17\n",
      "2\n",
      "4\n",
      "20\n",
      "2\n",
      "22\n",
      "6\n",
      "6\n",
      "15\n",
      "12\n",
      "3\n",
      "5\n",
      "25\n",
      "12\n",
      "24\n",
      "15\n",
      "11\n",
      "21\n",
      "16\n",
      "25\n",
      "15\n",
      "22\n",
      "19\n",
      "23\n",
      "12\n",
      "5\n",
      "17\n",
      "20\n",
      "5\n",
      "4\n",
      "16\n",
      "17\n",
      "\n",
      "\n",
      "\n",
      "8\n",
      "6\n",
      "5\n",
      "6\n",
      "5\n"
     ]
    }
   ],
   "source": [
    "import random\n",
    "for i in range (100):\n",
    "    print (random.randint(1,25))\n",
    "    \n",
    "len(range(100))\n",
    "\n",
    "print(\"\\n\\n\")\n",
    "\n",
    "for i in range (5):\n",
    "    print (random.randrange(1,10))"
   ]
  },
  {
   "cell_type": "code",
   "execution_count": null,
   "metadata": {},
   "outputs": [],
   "source": []
  }
 ],
 "metadata": {
  "kernelspec": {
   "display_name": "Python 3",
   "language": "python",
   "name": "python3"
  },
  "language_info": {
   "codemirror_mode": {
    "name": "ipython",
    "version": 3
   },
   "file_extension": ".py",
   "mimetype": "text/x-python",
   "name": "python",
   "nbconvert_exporter": "python",
   "pygments_lexer": "ipython3",
   "version": "3.8.3"
  }
 },
 "nbformat": 4,
 "nbformat_minor": 4
}
