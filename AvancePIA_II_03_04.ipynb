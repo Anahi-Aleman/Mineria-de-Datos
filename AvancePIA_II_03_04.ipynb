{
 "cells": [
  {
   "cell_type": "markdown",
   "metadata": {},
   "source": [
    "# Equipo 04"
   ]
  },
  {
   "cell_type": "markdown",
   "metadata": {},
   "source": [
    "### Grupo 03\n",
    "### Minería de datos: Viernes de 6 a 9 p.m."
   ]
  },
  {
   "cell_type": "markdown",
   "metadata": {},
   "source": [
    "**Integrantes**\n",
    "* *1821952, Alemán Alvarado Anahí*\n",
    "* *1819032, Gauna Rodríguez Karyme Mayela*\n",
    "* *1795134, Sánchez Olvera Ricardo Zarek*"
   ]
  },
  {
   "cell_type": "markdown",
   "metadata": {},
   "source": [
    "## Base de datos: [COVID-19 in USA](https://www.kaggle.com/sudalairajkumar/covid19-in-usa?select=us_counties_covid19_daily.csv)"
   ]
  },
  {
   "cell_type": "markdown",
   "metadata": {},
   "source": [
    "**Base extraída de:** [Novel Corona Virus 2019 Dataset](https://www.kaggle.com/sudalairajkumar/novel-corona-virus-2019-dataset?select=COVID19_line_list_data.csv)"
   ]
  },
  {
   "cell_type": "markdown",
   "metadata": {},
   "source": [
    "## Descripción"
   ]
  },
  {
   "cell_type": "markdown",
   "metadata": {},
   "source": [
    "El **covid-19** es un coronavirus identificado como la causa de un brote de enfermedad respiratoria detectado por primera vez en Wuhan, China. Al principio, muchos de los pacientes en el brote en Wuhan, China, según se informa, tenían algún vínculo con un gran mercado de mariscos y animales, lo que sugiere una propagación de animal a persona. Sin embargo, se informa que un número creciente de pacientes no ha estado expuesto a los mercados de animales, lo que indica que se está produciendo una propagación de persona a persona. \n",
    "El número de casos nuevos aumenta día a día en todo el mundo. Este conjunto de datos tiene información de 50 estados de USA Y el Distrito de Columbia a nivel diario."
   ]
  },
  {
   "cell_type": "markdown",
   "metadata": {},
   "source": [
    "### La base de datos está conformada por las columnas:\n",
    "* **Date:** día/mes/año (fecha en formato largo, descriptivo)\n",
    "* **City:** Ciudad registrada de USA (descriptivo)\n",
    "* **State:** Estado registrado de USA (descriptivo)\n",
    "* **Fips:** Código fips (numérico flotante)\n",
    "* **Cases:** Casos de contagio (numérico entero)\n",
    "* **Deaths:** Muertes (numérico entero)\n",
    "### Tamaño total de la base de datos: (573338,6)   7MB"
   ]
  },
  {
   "cell_type": "code",
   "execution_count": 26,
   "metadata": {},
   "outputs": [
    {
     "data": {
      "text/plain": [
       "date       object\n",
       "city       object\n",
       "state      object\n",
       "fips      float64\n",
       "cases       int64\n",
       "deaths      int64\n",
       "dtype: object"
      ]
     },
     "execution_count": 26,
     "metadata": {},
     "output_type": "execute_result"
    }
   ],
   "source": [
    "df.dtypes"
   ]
  },
  {
   "cell_type": "code",
   "execution_count": 27,
   "metadata": {},
   "outputs": [
    {
     "data": {
      "text/plain": [
       "(573338, 6)"
      ]
     },
     "execution_count": 27,
     "metadata": {},
     "output_type": "execute_result"
    }
   ],
   "source": [
    "df.shape"
   ]
  },
  {
   "cell_type": "markdown",
   "metadata": {},
   "source": [
    "## Justificación del uso de datos"
   ]
  },
  {
   "cell_type": "markdown",
   "metadata": {},
   "source": [
    "El **covid-19** es una enfermedad que muestra diversos\n",
    "comportamientos, y hasta el día de hoy los casos de contagios no siguen un orden ni una tendencia exacta, por lo que la principal razón para trabajar con esta base de datos es que nos da una muestra de\n",
    "características y conceptos que nos dan la oportunidad de pensar en más de una\n",
    "forma para aplicar la minería de datos por lo que la hizo una base muy accesible para nuestro cometido."
   ]
  },
  {
   "cell_type": "markdown",
   "metadata": {},
   "source": [
    "El mayor beneficio que podemos obtener de esta base es encontrar datos\n",
    "específicos y verídicos de los primeros casos de **covid-19**, tanto\n",
    "fechas como características, que nos ayudarán a cumplir nuestro objetivo. "
   ]
  },
  {
   "cell_type": "markdown",
   "metadata": {},
   "source": [
    "## Objetivos"
   ]
  },
  {
   "cell_type": "markdown",
   "metadata": {},
   "source": [
    "**Objetivo principal:** Realizar un programa que nos otorgue de manera efectiva los casos de contagio y muertes por **covid-19** en USA de acuerdo al estado "
   ]
  },
  {
   "cell_type": "markdown",
   "metadata": {},
   "source": [
    "**Objetivo secundario:**\n",
    "* Buscar clasificar los casos de contagio y muertes de acuerdo al estado y ciudad registrados de USA\n",
    "* Aplicar regresión lineal para estudiar la relación entre los casos de contagio y muertes en relación al estado\n",
    "* Analizar los días con mayor proporción de casos de contagio por estado\n",
    "* Analizar los días con mayor proporción de muertes por estado"
   ]
  },
  {
   "cell_type": "markdown",
   "metadata": {},
   "source": [
    "## Herramientas"
   ]
  },
  {
   "cell_type": "code",
   "execution_count": 1,
   "metadata": {},
   "outputs": [],
   "source": [
    "import pandas as pd\n",
    "import numpy as np"
   ]
  },
  {
   "cell_type": "code",
   "execution_count": 25,
   "metadata": {},
   "outputs": [
    {
     "data": {
      "text/html": [
       "<div>\n",
       "<style scoped>\n",
       "    .dataframe tbody tr th:only-of-type {\n",
       "        vertical-align: middle;\n",
       "    }\n",
       "\n",
       "    .dataframe tbody tr th {\n",
       "        vertical-align: top;\n",
       "    }\n",
       "\n",
       "    .dataframe thead th {\n",
       "        text-align: right;\n",
       "    }\n",
       "</style>\n",
       "<table border=\"1\" class=\"dataframe\">\n",
       "  <thead>\n",
       "    <tr style=\"text-align: right;\">\n",
       "      <th></th>\n",
       "      <th>date</th>\n",
       "      <th>city</th>\n",
       "      <th>state</th>\n",
       "      <th>fips</th>\n",
       "      <th>cases</th>\n",
       "      <th>deaths</th>\n",
       "    </tr>\n",
       "  </thead>\n",
       "  <tbody>\n",
       "    <tr>\n",
       "      <th>0</th>\n",
       "      <td>21/01/2020</td>\n",
       "      <td>Snohomish</td>\n",
       "      <td>Washington</td>\n",
       "      <td>53061.0</td>\n",
       "      <td>1</td>\n",
       "      <td>0</td>\n",
       "    </tr>\n",
       "    <tr>\n",
       "      <th>1</th>\n",
       "      <td>22/01/2020</td>\n",
       "      <td>Snohomish</td>\n",
       "      <td>Washington</td>\n",
       "      <td>53061.0</td>\n",
       "      <td>1</td>\n",
       "      <td>0</td>\n",
       "    </tr>\n",
       "    <tr>\n",
       "      <th>2</th>\n",
       "      <td>23/01/2020</td>\n",
       "      <td>Snohomish</td>\n",
       "      <td>Washington</td>\n",
       "      <td>53061.0</td>\n",
       "      <td>1</td>\n",
       "      <td>0</td>\n",
       "    </tr>\n",
       "    <tr>\n",
       "      <th>3</th>\n",
       "      <td>24/01/2020</td>\n",
       "      <td>Cook</td>\n",
       "      <td>Illinois</td>\n",
       "      <td>17031.0</td>\n",
       "      <td>1</td>\n",
       "      <td>0</td>\n",
       "    </tr>\n",
       "    <tr>\n",
       "      <th>4</th>\n",
       "      <td>24/01/2020</td>\n",
       "      <td>Snohomish</td>\n",
       "      <td>Washington</td>\n",
       "      <td>53061.0</td>\n",
       "      <td>1</td>\n",
       "      <td>0</td>\n",
       "    </tr>\n",
       "    <tr>\n",
       "      <th>...</th>\n",
       "      <td>...</td>\n",
       "      <td>...</td>\n",
       "      <td>...</td>\n",
       "      <td>...</td>\n",
       "      <td>...</td>\n",
       "      <td>...</td>\n",
       "    </tr>\n",
       "    <tr>\n",
       "      <th>573333</th>\n",
       "      <td>26/09/2020</td>\n",
       "      <td>Sweetwater</td>\n",
       "      <td>Wyoming</td>\n",
       "      <td>56037.0</td>\n",
       "      <td>332</td>\n",
       "      <td>2</td>\n",
       "    </tr>\n",
       "    <tr>\n",
       "      <th>573334</th>\n",
       "      <td>26/09/2020</td>\n",
       "      <td>Teton</td>\n",
       "      <td>Wyoming</td>\n",
       "      <td>56039.0</td>\n",
       "      <td>536</td>\n",
       "      <td>1</td>\n",
       "    </tr>\n",
       "    <tr>\n",
       "      <th>573335</th>\n",
       "      <td>26/09/2020</td>\n",
       "      <td>Uinta</td>\n",
       "      <td>Wyoming</td>\n",
       "      <td>56041.0</td>\n",
       "      <td>350</td>\n",
       "      <td>2</td>\n",
       "    </tr>\n",
       "    <tr>\n",
       "      <th>573336</th>\n",
       "      <td>26/09/2020</td>\n",
       "      <td>Washakie</td>\n",
       "      <td>Wyoming</td>\n",
       "      <td>56043.0</td>\n",
       "      <td>113</td>\n",
       "      <td>6</td>\n",
       "    </tr>\n",
       "    <tr>\n",
       "      <th>573337</th>\n",
       "      <td>26/09/2020</td>\n",
       "      <td>Weston</td>\n",
       "      <td>Wyoming</td>\n",
       "      <td>56045.0</td>\n",
       "      <td>36</td>\n",
       "      <td>0</td>\n",
       "    </tr>\n",
       "  </tbody>\n",
       "</table>\n",
       "<p>573338 rows × 6 columns</p>\n",
       "</div>"
      ],
      "text/plain": [
       "              date        city       state     fips  cases  deaths\n",
       "0       21/01/2020   Snohomish  Washington  53061.0      1       0\n",
       "1       22/01/2020   Snohomish  Washington  53061.0      1       0\n",
       "2       23/01/2020   Snohomish  Washington  53061.0      1       0\n",
       "3       24/01/2020        Cook    Illinois  17031.0      1       0\n",
       "4       24/01/2020   Snohomish  Washington  53061.0      1       0\n",
       "...            ...         ...         ...      ...    ...     ...\n",
       "573333  26/09/2020  Sweetwater     Wyoming  56037.0    332       2\n",
       "573334  26/09/2020       Teton     Wyoming  56039.0    536       1\n",
       "573335  26/09/2020       Uinta     Wyoming  56041.0    350       2\n",
       "573336  26/09/2020    Washakie     Wyoming  56043.0    113       6\n",
       "573337  26/09/2020      Weston     Wyoming  56045.0     36       0\n",
       "\n",
       "[573338 rows x 6 columns]"
      ]
     },
     "execution_count": 25,
     "metadata": {},
     "output_type": "execute_result"
    }
   ],
   "source": [
    "df = pd.read_csv(\"C:/Users/juanj/Downloads/us_covid19.csv\")\n",
    "df"
   ]
  },
  {
   "cell_type": "markdown",
   "metadata": {},
   "source": [
    "*Datos sin manipulación*"
   ]
  },
  {
   "cell_type": "code",
   "execution_count": 14,
   "metadata": {},
   "outputs": [
    {
     "data": {
      "text/html": [
       "<div>\n",
       "<style scoped>\n",
       "    .dataframe tbody tr th:only-of-type {\n",
       "        vertical-align: middle;\n",
       "    }\n",
       "\n",
       "    .dataframe tbody tr th {\n",
       "        vertical-align: top;\n",
       "    }\n",
       "\n",
       "    .dataframe thead th {\n",
       "        text-align: right;\n",
       "    }\n",
       "</style>\n",
       "<table border=\"1\" class=\"dataframe\">\n",
       "  <thead>\n",
       "    <tr style=\"text-align: right;\">\n",
       "      <th></th>\n",
       "      <th>date</th>\n",
       "      <th>city</th>\n",
       "      <th>state</th>\n",
       "      <th>fips</th>\n",
       "      <th>cases</th>\n",
       "      <th>deaths</th>\n",
       "    </tr>\n",
       "  </thead>\n",
       "  <tbody>\n",
       "    <tr>\n",
       "      <th>0</th>\n",
       "      <td>21/01/2020</td>\n",
       "      <td>Snohomish</td>\n",
       "      <td>Washington</td>\n",
       "      <td>53061.0</td>\n",
       "      <td>1</td>\n",
       "      <td>0</td>\n",
       "    </tr>\n",
       "    <tr>\n",
       "      <th>1</th>\n",
       "      <td>22/01/2020</td>\n",
       "      <td>Snohomish</td>\n",
       "      <td>Washington</td>\n",
       "      <td>53061.0</td>\n",
       "      <td>1</td>\n",
       "      <td>0</td>\n",
       "    </tr>\n",
       "    <tr>\n",
       "      <th>2</th>\n",
       "      <td>23/01/2020</td>\n",
       "      <td>Snohomish</td>\n",
       "      <td>Washington</td>\n",
       "      <td>53061.0</td>\n",
       "      <td>1</td>\n",
       "      <td>0</td>\n",
       "    </tr>\n",
       "    <tr>\n",
       "      <th>3</th>\n",
       "      <td>24/01/2020</td>\n",
       "      <td>Cook</td>\n",
       "      <td>Illinois</td>\n",
       "      <td>17031.0</td>\n",
       "      <td>1</td>\n",
       "      <td>0</td>\n",
       "    </tr>\n",
       "    <tr>\n",
       "      <th>4</th>\n",
       "      <td>24/01/2020</td>\n",
       "      <td>Snohomish</td>\n",
       "      <td>Washington</td>\n",
       "      <td>53061.0</td>\n",
       "      <td>1</td>\n",
       "      <td>0</td>\n",
       "    </tr>\n",
       "    <tr>\n",
       "      <th>...</th>\n",
       "      <td>...</td>\n",
       "      <td>...</td>\n",
       "      <td>...</td>\n",
       "      <td>...</td>\n",
       "      <td>...</td>\n",
       "      <td>...</td>\n",
       "    </tr>\n",
       "    <tr>\n",
       "      <th>573333</th>\n",
       "      <td>26/09/2020</td>\n",
       "      <td>Sweetwater</td>\n",
       "      <td>Wyoming</td>\n",
       "      <td>56037.0</td>\n",
       "      <td>332</td>\n",
       "      <td>2</td>\n",
       "    </tr>\n",
       "    <tr>\n",
       "      <th>573334</th>\n",
       "      <td>26/09/2020</td>\n",
       "      <td>Teton</td>\n",
       "      <td>Wyoming</td>\n",
       "      <td>56039.0</td>\n",
       "      <td>536</td>\n",
       "      <td>1</td>\n",
       "    </tr>\n",
       "    <tr>\n",
       "      <th>573335</th>\n",
       "      <td>26/09/2020</td>\n",
       "      <td>Uinta</td>\n",
       "      <td>Wyoming</td>\n",
       "      <td>56041.0</td>\n",
       "      <td>350</td>\n",
       "      <td>2</td>\n",
       "    </tr>\n",
       "    <tr>\n",
       "      <th>573336</th>\n",
       "      <td>26/09/2020</td>\n",
       "      <td>Washakie</td>\n",
       "      <td>Wyoming</td>\n",
       "      <td>56043.0</td>\n",
       "      <td>113</td>\n",
       "      <td>6</td>\n",
       "    </tr>\n",
       "    <tr>\n",
       "      <th>573337</th>\n",
       "      <td>26/09/2020</td>\n",
       "      <td>Weston</td>\n",
       "      <td>Wyoming</td>\n",
       "      <td>56045.0</td>\n",
       "      <td>36</td>\n",
       "      <td>0</td>\n",
       "    </tr>\n",
       "  </tbody>\n",
       "</table>\n",
       "<p>573338 rows × 6 columns</p>\n",
       "</div>"
      ],
      "text/plain": [
       "              date        city       state     fips  cases  deaths\n",
       "0       21/01/2020   Snohomish  Washington  53061.0      1       0\n",
       "1       22/01/2020   Snohomish  Washington  53061.0      1       0\n",
       "2       23/01/2020   Snohomish  Washington  53061.0      1       0\n",
       "3       24/01/2020        Cook    Illinois  17031.0      1       0\n",
       "4       24/01/2020   Snohomish  Washington  53061.0      1       0\n",
       "...            ...         ...         ...      ...    ...     ...\n",
       "573333  26/09/2020  Sweetwater     Wyoming  56037.0    332       2\n",
       "573334  26/09/2020       Teton     Wyoming  56039.0    536       1\n",
       "573335  26/09/2020       Uinta     Wyoming  56041.0    350       2\n",
       "573336  26/09/2020    Washakie     Wyoming  56043.0    113       6\n",
       "573337  26/09/2020      Weston     Wyoming  56045.0     36       0\n",
       "\n",
       "[573338 rows x 6 columns]"
      ]
     },
     "execution_count": 14,
     "metadata": {},
     "output_type": "execute_result"
    }
   ],
   "source": [
    "df = pd.read_csv(\"C:/Users/juanj/Downloads/us_covid19.csv\",encoding='utf8')\n",
    "df"
   ]
  },
  {
   "cell_type": "markdown",
   "metadata": {},
   "source": [
    "*Se aplica una limpieza a nuestra base en caso de existir datos con carácteres extraños*"
   ]
  },
  {
   "cell_type": "code",
   "execution_count": 17,
   "metadata": {},
   "outputs": [],
   "source": [
    "df = pd.DataFrame(df)"
   ]
  },
  {
   "cell_type": "code",
   "execution_count": 18,
   "metadata": {},
   "outputs": [],
   "source": [
    "covid_BaseNueva= df.drop('fips', axis=1)"
   ]
  },
  {
   "cell_type": "code",
   "execution_count": 82,
   "metadata": {},
   "outputs": [
    {
     "data": {
      "text/html": [
       "<div>\n",
       "<style scoped>\n",
       "    .dataframe tbody tr th:only-of-type {\n",
       "        vertical-align: middle;\n",
       "    }\n",
       "\n",
       "    .dataframe tbody tr th {\n",
       "        vertical-align: top;\n",
       "    }\n",
       "\n",
       "    .dataframe thead th {\n",
       "        text-align: right;\n",
       "    }\n",
       "</style>\n",
       "<table border=\"1\" class=\"dataframe\">\n",
       "  <thead>\n",
       "    <tr style=\"text-align: right;\">\n",
       "      <th></th>\n",
       "      <th>date</th>\n",
       "      <th>city</th>\n",
       "      <th>state</th>\n",
       "      <th>cases</th>\n",
       "      <th>deaths</th>\n",
       "    </tr>\n",
       "  </thead>\n",
       "  <tbody>\n",
       "    <tr>\n",
       "      <th>0</th>\n",
       "      <td>21/01/2020</td>\n",
       "      <td>Snohomish</td>\n",
       "      <td>Washington</td>\n",
       "      <td>1</td>\n",
       "      <td>0</td>\n",
       "    </tr>\n",
       "    <tr>\n",
       "      <th>1</th>\n",
       "      <td>22/01/2020</td>\n",
       "      <td>Snohomish</td>\n",
       "      <td>Washington</td>\n",
       "      <td>1</td>\n",
       "      <td>0</td>\n",
       "    </tr>\n",
       "    <tr>\n",
       "      <th>2</th>\n",
       "      <td>23/01/2020</td>\n",
       "      <td>Snohomish</td>\n",
       "      <td>Washington</td>\n",
       "      <td>1</td>\n",
       "      <td>0</td>\n",
       "    </tr>\n",
       "    <tr>\n",
       "      <th>3</th>\n",
       "      <td>24/01/2020</td>\n",
       "      <td>Cook</td>\n",
       "      <td>Illinois</td>\n",
       "      <td>1</td>\n",
       "      <td>0</td>\n",
       "    </tr>\n",
       "    <tr>\n",
       "      <th>4</th>\n",
       "      <td>24/01/2020</td>\n",
       "      <td>Snohomish</td>\n",
       "      <td>Washington</td>\n",
       "      <td>1</td>\n",
       "      <td>0</td>\n",
       "    </tr>\n",
       "    <tr>\n",
       "      <th>...</th>\n",
       "      <td>...</td>\n",
       "      <td>...</td>\n",
       "      <td>...</td>\n",
       "      <td>...</td>\n",
       "      <td>...</td>\n",
       "    </tr>\n",
       "    <tr>\n",
       "      <th>573333</th>\n",
       "      <td>26/09/2020</td>\n",
       "      <td>Sweetwater</td>\n",
       "      <td>Wyoming</td>\n",
       "      <td>332</td>\n",
       "      <td>2</td>\n",
       "    </tr>\n",
       "    <tr>\n",
       "      <th>573334</th>\n",
       "      <td>26/09/2020</td>\n",
       "      <td>Teton</td>\n",
       "      <td>Wyoming</td>\n",
       "      <td>536</td>\n",
       "      <td>1</td>\n",
       "    </tr>\n",
       "    <tr>\n",
       "      <th>573335</th>\n",
       "      <td>26/09/2020</td>\n",
       "      <td>Uinta</td>\n",
       "      <td>Wyoming</td>\n",
       "      <td>350</td>\n",
       "      <td>2</td>\n",
       "    </tr>\n",
       "    <tr>\n",
       "      <th>573336</th>\n",
       "      <td>26/09/2020</td>\n",
       "      <td>Washakie</td>\n",
       "      <td>Wyoming</td>\n",
       "      <td>113</td>\n",
       "      <td>6</td>\n",
       "    </tr>\n",
       "    <tr>\n",
       "      <th>573337</th>\n",
       "      <td>26/09/2020</td>\n",
       "      <td>Weston</td>\n",
       "      <td>Wyoming</td>\n",
       "      <td>36</td>\n",
       "      <td>0</td>\n",
       "    </tr>\n",
       "  </tbody>\n",
       "</table>\n",
       "<p>573338 rows × 5 columns</p>\n",
       "</div>"
      ],
      "text/plain": [
       "              date        city       state  cases  deaths\n",
       "0       21/01/2020   Snohomish  Washington      1       0\n",
       "1       22/01/2020   Snohomish  Washington      1       0\n",
       "2       23/01/2020   Snohomish  Washington      1       0\n",
       "3       24/01/2020        Cook    Illinois      1       0\n",
       "4       24/01/2020   Snohomish  Washington      1       0\n",
       "...            ...         ...         ...    ...     ...\n",
       "573333  26/09/2020  Sweetwater     Wyoming    332       2\n",
       "573334  26/09/2020       Teton     Wyoming    536       1\n",
       "573335  26/09/2020       Uinta     Wyoming    350       2\n",
       "573336  26/09/2020    Washakie     Wyoming    113       6\n",
       "573337  26/09/2020      Weston     Wyoming     36       0\n",
       "\n",
       "[573338 rows x 5 columns]"
      ]
     },
     "execution_count": 82,
     "metadata": {},
     "output_type": "execute_result"
    }
   ],
   "source": [
    "df=pd.DataFrame(covid_BaseNueva)\n",
    "df"
   ]
  },
  {
   "cell_type": "code",
   "execution_count": 83,
   "metadata": {},
   "outputs": [
    {
     "data": {
      "text/html": [
       "<div>\n",
       "<style scoped>\n",
       "    .dataframe tbody tr th:only-of-type {\n",
       "        vertical-align: middle;\n",
       "    }\n",
       "\n",
       "    .dataframe tbody tr th {\n",
       "        vertical-align: top;\n",
       "    }\n",
       "\n",
       "    .dataframe thead th {\n",
       "        text-align: right;\n",
       "    }\n",
       "</style>\n",
       "<table border=\"1\" class=\"dataframe\">\n",
       "  <thead>\n",
       "    <tr style=\"text-align: right;\">\n",
       "      <th></th>\n",
       "      <th>Fecha</th>\n",
       "      <th>Ciudad</th>\n",
       "      <th>Estado</th>\n",
       "      <th>Contagios</th>\n",
       "      <th>Muertes</th>\n",
       "    </tr>\n",
       "  </thead>\n",
       "  <tbody>\n",
       "    <tr>\n",
       "      <th>0</th>\n",
       "      <td>21/01/2020</td>\n",
       "      <td>Snohomish</td>\n",
       "      <td>Washington</td>\n",
       "      <td>1</td>\n",
       "      <td>0</td>\n",
       "    </tr>\n",
       "    <tr>\n",
       "      <th>1</th>\n",
       "      <td>22/01/2020</td>\n",
       "      <td>Snohomish</td>\n",
       "      <td>Washington</td>\n",
       "      <td>1</td>\n",
       "      <td>0</td>\n",
       "    </tr>\n",
       "    <tr>\n",
       "      <th>2</th>\n",
       "      <td>23/01/2020</td>\n",
       "      <td>Snohomish</td>\n",
       "      <td>Washington</td>\n",
       "      <td>1</td>\n",
       "      <td>0</td>\n",
       "    </tr>\n",
       "    <tr>\n",
       "      <th>3</th>\n",
       "      <td>24/01/2020</td>\n",
       "      <td>Cook</td>\n",
       "      <td>Illinois</td>\n",
       "      <td>1</td>\n",
       "      <td>0</td>\n",
       "    </tr>\n",
       "    <tr>\n",
       "      <th>4</th>\n",
       "      <td>24/01/2020</td>\n",
       "      <td>Snohomish</td>\n",
       "      <td>Washington</td>\n",
       "      <td>1</td>\n",
       "      <td>0</td>\n",
       "    </tr>\n",
       "    <tr>\n",
       "      <th>...</th>\n",
       "      <td>...</td>\n",
       "      <td>...</td>\n",
       "      <td>...</td>\n",
       "      <td>...</td>\n",
       "      <td>...</td>\n",
       "    </tr>\n",
       "    <tr>\n",
       "      <th>573333</th>\n",
       "      <td>26/09/2020</td>\n",
       "      <td>Sweetwater</td>\n",
       "      <td>Wyoming</td>\n",
       "      <td>332</td>\n",
       "      <td>2</td>\n",
       "    </tr>\n",
       "    <tr>\n",
       "      <th>573334</th>\n",
       "      <td>26/09/2020</td>\n",
       "      <td>Teton</td>\n",
       "      <td>Wyoming</td>\n",
       "      <td>536</td>\n",
       "      <td>1</td>\n",
       "    </tr>\n",
       "    <tr>\n",
       "      <th>573335</th>\n",
       "      <td>26/09/2020</td>\n",
       "      <td>Uinta</td>\n",
       "      <td>Wyoming</td>\n",
       "      <td>350</td>\n",
       "      <td>2</td>\n",
       "    </tr>\n",
       "    <tr>\n",
       "      <th>573336</th>\n",
       "      <td>26/09/2020</td>\n",
       "      <td>Washakie</td>\n",
       "      <td>Wyoming</td>\n",
       "      <td>113</td>\n",
       "      <td>6</td>\n",
       "    </tr>\n",
       "    <tr>\n",
       "      <th>573337</th>\n",
       "      <td>26/09/2020</td>\n",
       "      <td>Weston</td>\n",
       "      <td>Wyoming</td>\n",
       "      <td>36</td>\n",
       "      <td>0</td>\n",
       "    </tr>\n",
       "  </tbody>\n",
       "</table>\n",
       "<p>573338 rows × 5 columns</p>\n",
       "</div>"
      ],
      "text/plain": [
       "             Fecha      Ciudad      Estado  Contagios  Muertes\n",
       "0       21/01/2020   Snohomish  Washington          1        0\n",
       "1       22/01/2020   Snohomish  Washington          1        0\n",
       "2       23/01/2020   Snohomish  Washington          1        0\n",
       "3       24/01/2020        Cook    Illinois          1        0\n",
       "4       24/01/2020   Snohomish  Washington          1        0\n",
       "...            ...         ...         ...        ...      ...\n",
       "573333  26/09/2020  Sweetwater     Wyoming        332        2\n",
       "573334  26/09/2020       Teton     Wyoming        536        1\n",
       "573335  26/09/2020       Uinta     Wyoming        350        2\n",
       "573336  26/09/2020    Washakie     Wyoming        113        6\n",
       "573337  26/09/2020      Weston     Wyoming         36        0\n",
       "\n",
       "[573338 rows x 5 columns]"
      ]
     },
     "execution_count": 83,
     "metadata": {},
     "output_type": "execute_result"
    }
   ],
   "source": [
    "df.rename(columns = {'date':'Fecha', 'city':'Ciudad', 'state':'Estado', 'cases':'Contagios', 'deaths':'Muertes'})"
   ]
  },
  {
   "cell_type": "markdown",
   "metadata": {},
   "source": [
    "*Se eliminó la columna del índice fips ya que no será utilizada para nuestros objetivos*"
   ]
  },
  {
   "cell_type": "code",
   "execution_count": 84,
   "metadata": {},
   "outputs": [],
   "source": [
    "df= df.rename(columns = {'date':'Fecha', 'city':'Ciudad', 'state':'Estado', 'cases':'Contagios', 'deaths':'Muertes'})"
   ]
  },
  {
   "cell_type": "markdown",
   "metadata": {},
   "source": [
    "*Se renombraron las columnas para un mejor manejo de la información, sin alteración en la descripción de ninguna columna* "
   ]
  },
  {
   "cell_type": "code",
   "execution_count": 37,
   "metadata": {},
   "outputs": [
    {
     "data": {
      "text/html": [
       "<div>\n",
       "<style scoped>\n",
       "    .dataframe tbody tr th:only-of-type {\n",
       "        vertical-align: middle;\n",
       "    }\n",
       "\n",
       "    .dataframe tbody tr th {\n",
       "        vertical-align: top;\n",
       "    }\n",
       "\n",
       "    .dataframe thead th {\n",
       "        text-align: right;\n",
       "    }\n",
       "</style>\n",
       "<table border=\"1\" class=\"dataframe\">\n",
       "  <thead>\n",
       "    <tr style=\"text-align: right;\">\n",
       "      <th></th>\n",
       "      <th>date</th>\n",
       "      <th>city</th>\n",
       "      <th>state</th>\n",
       "      <th>cases</th>\n",
       "      <th>deaths</th>\n",
       "    </tr>\n",
       "  </thead>\n",
       "  <tbody>\n",
       "    <tr>\n",
       "      <th>0</th>\n",
       "      <td>False</td>\n",
       "      <td>False</td>\n",
       "      <td>False</td>\n",
       "      <td>False</td>\n",
       "      <td>False</td>\n",
       "    </tr>\n",
       "    <tr>\n",
       "      <th>1</th>\n",
       "      <td>False</td>\n",
       "      <td>False</td>\n",
       "      <td>False</td>\n",
       "      <td>False</td>\n",
       "      <td>False</td>\n",
       "    </tr>\n",
       "    <tr>\n",
       "      <th>2</th>\n",
       "      <td>False</td>\n",
       "      <td>False</td>\n",
       "      <td>False</td>\n",
       "      <td>False</td>\n",
       "      <td>False</td>\n",
       "    </tr>\n",
       "    <tr>\n",
       "      <th>3</th>\n",
       "      <td>False</td>\n",
       "      <td>False</td>\n",
       "      <td>False</td>\n",
       "      <td>False</td>\n",
       "      <td>False</td>\n",
       "    </tr>\n",
       "    <tr>\n",
       "      <th>4</th>\n",
       "      <td>False</td>\n",
       "      <td>False</td>\n",
       "      <td>False</td>\n",
       "      <td>False</td>\n",
       "      <td>False</td>\n",
       "    </tr>\n",
       "    <tr>\n",
       "      <th>...</th>\n",
       "      <td>...</td>\n",
       "      <td>...</td>\n",
       "      <td>...</td>\n",
       "      <td>...</td>\n",
       "      <td>...</td>\n",
       "    </tr>\n",
       "    <tr>\n",
       "      <th>573333</th>\n",
       "      <td>False</td>\n",
       "      <td>False</td>\n",
       "      <td>False</td>\n",
       "      <td>False</td>\n",
       "      <td>False</td>\n",
       "    </tr>\n",
       "    <tr>\n",
       "      <th>573334</th>\n",
       "      <td>False</td>\n",
       "      <td>False</td>\n",
       "      <td>False</td>\n",
       "      <td>False</td>\n",
       "      <td>False</td>\n",
       "    </tr>\n",
       "    <tr>\n",
       "      <th>573335</th>\n",
       "      <td>False</td>\n",
       "      <td>False</td>\n",
       "      <td>False</td>\n",
       "      <td>False</td>\n",
       "      <td>False</td>\n",
       "    </tr>\n",
       "    <tr>\n",
       "      <th>573336</th>\n",
       "      <td>False</td>\n",
       "      <td>False</td>\n",
       "      <td>False</td>\n",
       "      <td>False</td>\n",
       "      <td>False</td>\n",
       "    </tr>\n",
       "    <tr>\n",
       "      <th>573337</th>\n",
       "      <td>False</td>\n",
       "      <td>False</td>\n",
       "      <td>False</td>\n",
       "      <td>False</td>\n",
       "      <td>False</td>\n",
       "    </tr>\n",
       "  </tbody>\n",
       "</table>\n",
       "<p>573338 rows × 5 columns</p>\n",
       "</div>"
      ],
      "text/plain": [
       "         date   city  state  cases  deaths\n",
       "0       False  False  False  False   False\n",
       "1       False  False  False  False   False\n",
       "2       False  False  False  False   False\n",
       "3       False  False  False  False   False\n",
       "4       False  False  False  False   False\n",
       "...       ...    ...    ...    ...     ...\n",
       "573333  False  False  False  False   False\n",
       "573334  False  False  False  False   False\n",
       "573335  False  False  False  False   False\n",
       "573336  False  False  False  False   False\n",
       "573337  False  False  False  False   False\n",
       "\n",
       "[573338 rows x 5 columns]"
      ]
     },
     "execution_count": 37,
     "metadata": {},
     "output_type": "execute_result"
    }
   ],
   "source": [
    "df.isnull()"
   ]
  },
  {
   "cell_type": "code",
   "execution_count": 22,
   "metadata": {},
   "outputs": [
    {
     "data": {
      "text/plain": [
       "date      False\n",
       "city      False\n",
       "state     False\n",
       "cases     False\n",
       "deaths    False\n",
       "dtype: bool"
      ]
     },
     "execution_count": 22,
     "metadata": {},
     "output_type": "execute_result"
    }
   ],
   "source": [
    "df.isnull().any()"
   ]
  },
  {
   "cell_type": "code",
   "execution_count": 23,
   "metadata": {},
   "outputs": [
    {
     "data": {
      "text/plain": [
       "date      0\n",
       "city      0\n",
       "state     0\n",
       "cases     0\n",
       "deaths    0\n",
       "dtype: int64"
      ]
     },
     "execution_count": 23,
     "metadata": {},
     "output_type": "execute_result"
    }
   ],
   "source": [
    "df.isnull().sum()"
   ]
  },
  {
   "cell_type": "markdown",
   "metadata": {},
   "source": [
    "*Comprobamos que nuestra base de datos no cuenta con datos nulos*"
   ]
  },
  {
   "cell_type": "code",
   "execution_count": 85,
   "metadata": {},
   "outputs": [],
   "source": [
    "df.to_csv('Covid19_data.csv')\n"
   ]
  },
  {
   "cell_type": "markdown",
   "metadata": {},
   "source": [
    "## Estadística"
   ]
  },
  {
   "cell_type": "code",
   "execution_count": 41,
   "metadata": {},
   "outputs": [
    {
     "data": {
      "text/html": [
       "<div>\n",
       "<style scoped>\n",
       "    .dataframe tbody tr th:only-of-type {\n",
       "        vertical-align: middle;\n",
       "    }\n",
       "\n",
       "    .dataframe tbody tr th {\n",
       "        vertical-align: top;\n",
       "    }\n",
       "\n",
       "    .dataframe thead th {\n",
       "        text-align: right;\n",
       "    }\n",
       "</style>\n",
       "<table border=\"1\" class=\"dataframe\">\n",
       "  <thead>\n",
       "    <tr style=\"text-align: right;\">\n",
       "      <th></th>\n",
       "      <th>Contagios</th>\n",
       "      <th>Muertes</th>\n",
       "    </tr>\n",
       "  </thead>\n",
       "  <tbody>\n",
       "    <tr>\n",
       "      <th>0</th>\n",
       "      <td>1</td>\n",
       "      <td>0</td>\n",
       "    </tr>\n",
       "    <tr>\n",
       "      <th>1</th>\n",
       "      <td>1</td>\n",
       "      <td>0</td>\n",
       "    </tr>\n",
       "    <tr>\n",
       "      <th>2</th>\n",
       "      <td>1</td>\n",
       "      <td>0</td>\n",
       "    </tr>\n",
       "    <tr>\n",
       "      <th>3</th>\n",
       "      <td>1</td>\n",
       "      <td>0</td>\n",
       "    </tr>\n",
       "    <tr>\n",
       "      <th>4</th>\n",
       "      <td>1</td>\n",
       "      <td>0</td>\n",
       "    </tr>\n",
       "    <tr>\n",
       "      <th>...</th>\n",
       "      <td>...</td>\n",
       "      <td>...</td>\n",
       "    </tr>\n",
       "    <tr>\n",
       "      <th>573333</th>\n",
       "      <td>332</td>\n",
       "      <td>2</td>\n",
       "    </tr>\n",
       "    <tr>\n",
       "      <th>573334</th>\n",
       "      <td>536</td>\n",
       "      <td>1</td>\n",
       "    </tr>\n",
       "    <tr>\n",
       "      <th>573335</th>\n",
       "      <td>350</td>\n",
       "      <td>2</td>\n",
       "    </tr>\n",
       "    <tr>\n",
       "      <th>573336</th>\n",
       "      <td>113</td>\n",
       "      <td>6</td>\n",
       "    </tr>\n",
       "    <tr>\n",
       "      <th>573337</th>\n",
       "      <td>36</td>\n",
       "      <td>0</td>\n",
       "    </tr>\n",
       "  </tbody>\n",
       "</table>\n",
       "<p>573338 rows × 2 columns</p>\n",
       "</div>"
      ],
      "text/plain": [
       "        Contagios  Muertes\n",
       "0               1        0\n",
       "1               1        0\n",
       "2               1        0\n",
       "3               1        0\n",
       "4               1        0\n",
       "...           ...      ...\n",
       "573333        332        2\n",
       "573334        536        1\n",
       "573335        350        2\n",
       "573336        113        6\n",
       "573337         36        0\n",
       "\n",
       "[573338 rows x 2 columns]"
      ]
     },
     "execution_count": 41,
     "metadata": {},
     "output_type": "execute_result"
    }
   ],
   "source": [
    "df2=pd.DataFrame(df,columns=['Contagios','Muertes'])\n",
    "df2"
   ]
  },
  {
   "cell_type": "code",
   "execution_count": 43,
   "metadata": {},
   "outputs": [
    {
     "data": {
      "text/plain": [
       "580793416"
      ]
     },
     "execution_count": 43,
     "metadata": {},
     "output_type": "execute_result"
    }
   ],
   "source": [
    "df['Contagios'].sum()"
   ]
  },
  {
   "cell_type": "markdown",
   "metadata": {},
   "source": [
    "*Este estadístico nos muestra la suma total de casos de contagio, es decir, existen 580 millones 793 mil 416 contagiados por **covid-19** en USA registrados en nuestra base de datos*"
   ]
  },
  {
   "cell_type": "code",
   "execution_count": 42,
   "metadata": {},
   "outputs": [
    {
     "data": {
      "text/plain": [
       "21792912"
      ]
     },
     "execution_count": 42,
     "metadata": {},
     "output_type": "execute_result"
    }
   ],
   "source": [
    "df['Muertes'].sum()"
   ]
  },
  {
   "cell_type": "markdown",
   "metadata": {},
   "source": [
    "*Este estadístico nos muestra la suma total de muertes, es decir, existen 21 millones 792 mil 912 muertos por **covid-19** en USA registrados en nuestra base de datos*"
   ]
  },
  {
   "cell_type": "code",
   "execution_count": 45,
   "metadata": {},
   "outputs": [
    {
     "data": {
      "text/plain": [
       "0                 1\n",
       "1                 2\n",
       "2                 3\n",
       "3                 4\n",
       "4                 5\n",
       "            ...    \n",
       "573333    580792381\n",
       "573334    580792917\n",
       "573335    580793267\n",
       "573336    580793380\n",
       "573337    580793416\n",
       "Name: Contagios, Length: 573338, dtype: int64"
      ]
     },
     "execution_count": 45,
     "metadata": {},
     "output_type": "execute_result"
    }
   ],
   "source": [
    "df['Contagios'].cumsum()"
   ]
  },
  {
   "cell_type": "markdown",
   "metadata": {},
   "source": [
    "*En este estadístico podemos encontrar el número de contagios acumulados por cada día, es decir, si el día 1 teniamos un contagiado y al segundo día resulta otro contagio, nos muestra que para el segundo día ya existirían 2 contagiados realmente*"
   ]
  },
  {
   "cell_type": "code",
   "execution_count": 46,
   "metadata": {},
   "outputs": [
    {
     "data": {
      "text/plain": [
       "0                0\n",
       "1                0\n",
       "2                0\n",
       "3                0\n",
       "4                0\n",
       "            ...   \n",
       "573333    21792903\n",
       "573334    21792904\n",
       "573335    21792906\n",
       "573336    21792912\n",
       "573337    21792912\n",
       "Name: Muertes, Length: 573338, dtype: int64"
      ]
     },
     "execution_count": 46,
     "metadata": {},
     "output_type": "execute_result"
    }
   ],
   "source": [
    "df['Muertes'].cumsum()"
   ]
  },
  {
   "cell_type": "markdown",
   "metadata": {},
   "source": [
    "*Este otro estadístico nos da el número de muertes acumulados por cada día, es decir, si el día x teníamos 5 muertes y al día x+1 se registra otra muerte, nos muestra que para el día x+1 ya existirían 6 muertes realmente*"
   ]
  },
  {
   "cell_type": "code",
   "execution_count": 47,
   "metadata": {},
   "outputs": [
    {
     "data": {
      "text/plain": [
       "0"
      ]
     },
     "execution_count": 47,
     "metadata": {},
     "output_type": "execute_result"
    }
   ],
   "source": [
    "df['Contagios'].min()"
   ]
  },
  {
   "cell_type": "code",
   "execution_count": 48,
   "metadata": {},
   "outputs": [
    {
     "data": {
      "text/plain": [
       "266988"
      ]
     },
     "execution_count": 48,
     "metadata": {},
     "output_type": "execute_result"
    }
   ],
   "source": [
    "df['Contagios'].max()"
   ]
  },
  {
   "cell_type": "markdown",
   "metadata": {},
   "source": [
    "*El número de contagios por **covid-19** está en un intervalo de (0,266988) registrados por día*"
   ]
  },
  {
   "cell_type": "code",
   "execution_count": 49,
   "metadata": {},
   "outputs": [
    {
     "data": {
      "text/plain": [
       "0"
      ]
     },
     "execution_count": 49,
     "metadata": {},
     "output_type": "execute_result"
    }
   ],
   "source": [
    "df['Muertes'].min()"
   ]
  },
  {
   "cell_type": "code",
   "execution_count": 50,
   "metadata": {},
   "outputs": [
    {
     "data": {
      "text/plain": [
       "23795"
      ]
     },
     "execution_count": 50,
     "metadata": {},
     "output_type": "execute_result"
    }
   ],
   "source": [
    "df['Muertes'].max()"
   ]
  },
  {
   "cell_type": "markdown",
   "metadata": {},
   "source": [
    "*El número de muertes por **covid-19** está en un intervalo de (0,23795) registradas por día*"
   ]
  },
  {
   "cell_type": "code",
   "execution_count": 51,
   "metadata": {},
   "outputs": [
    {
     "data": {
      "text/plain": [
       "1013.0035267154802"
      ]
     },
     "execution_count": 51,
     "metadata": {},
     "output_type": "execute_result"
    }
   ],
   "source": [
    "df['Contagios'].mean()"
   ]
  },
  {
   "cell_type": "markdown",
   "metadata": {},
   "source": [
    "*En promedio 1013 personas se contagian al día en USA*"
   ]
  },
  {
   "cell_type": "code",
   "execution_count": 52,
   "metadata": {},
   "outputs": [
    {
     "data": {
      "text/plain": [
       "38.01058363478437"
      ]
     },
     "execution_count": 52,
     "metadata": {},
     "output_type": "execute_result"
    }
   ],
   "source": [
    "df['Muertes'].mean()"
   ]
  },
  {
   "cell_type": "markdown",
   "metadata": {},
   "source": [
    "*En promedio 38 personas mueren al día por **covid-19** en USA*"
   ]
  },
  {
   "cell_type": "code",
   "execution_count": 56,
   "metadata": {},
   "outputs": [
    {
     "data": {
      "text/plain": [
       "82.0"
      ]
     },
     "execution_count": 56,
     "metadata": {},
     "output_type": "execute_result"
    }
   ],
   "source": [
    "df['Contagios'].median()"
   ]
  },
  {
   "cell_type": "markdown",
   "metadata": {},
   "source": [
    "*El valor medio (central) de contagios es 82*"
   ]
  },
  {
   "cell_type": "code",
   "execution_count": 55,
   "metadata": {},
   "outputs": [
    {
     "data": {
      "text/plain": [
       "6279.205645692469"
      ]
     },
     "execution_count": 55,
     "metadata": {},
     "output_type": "execute_result"
    }
   ],
   "source": [
    "df['Contagios'].std()"
   ]
  },
  {
   "cell_type": "markdown",
   "metadata": {},
   "source": [
    "*En promedio, el número de contagios por **covid-19** se desvía de la media aproximadamente 6279 contagios*"
   ]
  },
  {
   "cell_type": "code",
   "execution_count": 57,
   "metadata": {},
   "outputs": [
    {
     "data": {
      "text/plain": [
       "1.0"
      ]
     },
     "execution_count": 57,
     "metadata": {},
     "output_type": "execute_result"
    }
   ],
   "source": [
    "df['Muertes'].median()"
   ]
  },
  {
   "cell_type": "markdown",
   "metadata": {},
   "source": [
    "*El valor medio (central) de muertes es 1*"
   ]
  },
  {
   "cell_type": "code",
   "execution_count": 58,
   "metadata": {},
   "outputs": [
    {
     "data": {
      "text/plain": [
       "408.47033081846837"
      ]
     },
     "execution_count": 58,
     "metadata": {},
     "output_type": "execute_result"
    }
   ],
   "source": [
    "df['Muertes'].std()"
   ]
  },
  {
   "cell_type": "markdown",
   "metadata": {},
   "source": [
    "*En promedio, el número de muertes por **covid-19** se desvía aproximadamente 408 muertes*"
   ]
  },
  {
   "cell_type": "code",
   "execution_count": 59,
   "metadata": {},
   "outputs": [
    {
     "data": {
      "text/html": [
       "<div>\n",
       "<style scoped>\n",
       "    .dataframe tbody tr th:only-of-type {\n",
       "        vertical-align: middle;\n",
       "    }\n",
       "\n",
       "    .dataframe tbody tr th {\n",
       "        vertical-align: top;\n",
       "    }\n",
       "\n",
       "    .dataframe thead th {\n",
       "        text-align: right;\n",
       "    }\n",
       "</style>\n",
       "<table border=\"1\" class=\"dataframe\">\n",
       "  <thead>\n",
       "    <tr style=\"text-align: right;\">\n",
       "      <th></th>\n",
       "      <th>Contagios</th>\n",
       "      <th>Muertes</th>\n",
       "    </tr>\n",
       "  </thead>\n",
       "  <tbody>\n",
       "    <tr>\n",
       "      <th>Contagios</th>\n",
       "      <td>3.942842e+07</td>\n",
       "      <td>2.107927e+06</td>\n",
       "    </tr>\n",
       "    <tr>\n",
       "      <th>Muertes</th>\n",
       "      <td>2.107927e+06</td>\n",
       "      <td>1.668480e+05</td>\n",
       "    </tr>\n",
       "  </tbody>\n",
       "</table>\n",
       "</div>"
      ],
      "text/plain": [
       "              Contagios       Muertes\n",
       "Contagios  3.942842e+07  2.107927e+06\n",
       "Muertes    2.107927e+06  1.668480e+05"
      ]
     },
     "execution_count": 59,
     "metadata": {},
     "output_type": "execute_result"
    }
   ],
   "source": [
    "df2.cov()"
   ]
  },
  {
   "cell_type": "markdown",
   "metadata": {},
   "source": [
    "*La covarianza entre los casos de contagio y el número de muertes respecto a su media es mayor, es decir, los datos se encuentran muy dispersos respecto a la media*"
   ]
  },
  {
   "cell_type": "code",
   "execution_count": 60,
   "metadata": {},
   "outputs": [
    {
     "data": {
      "text/html": [
       "<div>\n",
       "<style scoped>\n",
       "    .dataframe tbody tr th:only-of-type {\n",
       "        vertical-align: middle;\n",
       "    }\n",
       "\n",
       "    .dataframe tbody tr th {\n",
       "        vertical-align: top;\n",
       "    }\n",
       "\n",
       "    .dataframe thead th {\n",
       "        text-align: right;\n",
       "    }\n",
       "</style>\n",
       "<table border=\"1\" class=\"dataframe\">\n",
       "  <thead>\n",
       "    <tr style=\"text-align: right;\">\n",
       "      <th></th>\n",
       "      <th>Contagios</th>\n",
       "      <th>Muertes</th>\n",
       "    </tr>\n",
       "  </thead>\n",
       "  <tbody>\n",
       "    <tr>\n",
       "      <th>Contagios</th>\n",
       "      <td>1.000000</td>\n",
       "      <td>0.821846</td>\n",
       "    </tr>\n",
       "    <tr>\n",
       "      <th>Muertes</th>\n",
       "      <td>0.821846</td>\n",
       "      <td>1.000000</td>\n",
       "    </tr>\n",
       "  </tbody>\n",
       "</table>\n",
       "</div>"
      ],
      "text/plain": [
       "           Contagios   Muertes\n",
       "Contagios   1.000000  0.821846\n",
       "Muertes     0.821846  1.000000"
      ]
     },
     "execution_count": 60,
     "metadata": {},
     "output_type": "execute_result"
    }
   ],
   "source": [
    "df2.corr()"
   ]
  },
  {
   "cell_type": "markdown",
   "metadata": {},
   "source": [
    "*Existe una correlación menor a 1 entre los casos de contagios y el número de muertes, es decir, existe una relación positiva fuerte entre ambas variables*"
   ]
  },
  {
   "cell_type": "markdown",
   "metadata": {},
   "source": [
    "### Resumen\n",
    "* **Existen 580,793,416 casos de contagio por covid-19 en USA**\n",
    "* **Al día de hor cerca de  21,792,912 de personas han muerto por covid-19 en USA**\n",
    "* **El mayor número de contagios por covid-19 es de 266,988 por día**\n",
    "* **El mayor número de muertes por covid-19 es de 23,795 por día**\n",
    "* **En promedio 1013 personas se contagian al día en USA**\n",
    "* **En promedio 38 personas mueren al día por covid-19 en USA**\n",
    "* **Los casos de contagio y el número de muertes se encuentran muy dispersos respecto a su valor medio**\n",
    "* **Los casos de contagios y el número de muertes tienen una fuerte relación, pero no significa que el número de contagios influye directamente en el número de muertes**\n",
    "\n",
    "Con estos datos poco a poco podemos ir dandole forma a lo que queremos obtener finalmente, pero aún es necesario seguir trabajando con nuestros datos observados. \n"
   ]
  },
  {
   "cell_type": "markdown",
   "metadata": {},
   "source": [
    "## Gráficas"
   ]
  },
  {
   "cell_type": "code",
   "execution_count": 61,
   "metadata": {},
   "outputs": [],
   "source": [
    "import pandas as pd\n",
    "from matplotlib.pyplot import pie, axis, show\n",
    "%matplotlib inline"
   ]
  },
  {
   "cell_type": "code",
   "execution_count": 121,
   "metadata": {},
   "outputs": [
    {
     "data": {
      "text/html": [
       "<div>\n",
       "<style scoped>\n",
       "    .dataframe tbody tr th:only-of-type {\n",
       "        vertical-align: middle;\n",
       "    }\n",
       "\n",
       "    .dataframe tbody tr th {\n",
       "        vertical-align: top;\n",
       "    }\n",
       "\n",
       "    .dataframe thead th {\n",
       "        text-align: right;\n",
       "    }\n",
       "</style>\n",
       "<table border=\"1\" class=\"dataframe\">\n",
       "  <thead>\n",
       "    <tr style=\"text-align: right;\">\n",
       "      <th></th>\n",
       "      <th>Unnamed: 0</th>\n",
       "      <th>Fecha</th>\n",
       "      <th>Ciudad</th>\n",
       "      <th>Estado</th>\n",
       "      <th>Contagios</th>\n",
       "      <th>Muertes</th>\n",
       "    </tr>\n",
       "  </thead>\n",
       "  <tbody>\n",
       "    <tr>\n",
       "      <th>0</th>\n",
       "      <td>0</td>\n",
       "      <td>21/01/2020</td>\n",
       "      <td>Snohomish</td>\n",
       "      <td>Washington</td>\n",
       "      <td>1</td>\n",
       "      <td>0</td>\n",
       "    </tr>\n",
       "    <tr>\n",
       "      <th>1</th>\n",
       "      <td>1</td>\n",
       "      <td>22/01/2020</td>\n",
       "      <td>Snohomish</td>\n",
       "      <td>Washington</td>\n",
       "      <td>1</td>\n",
       "      <td>0</td>\n",
       "    </tr>\n",
       "    <tr>\n",
       "      <th>2</th>\n",
       "      <td>2</td>\n",
       "      <td>23/01/2020</td>\n",
       "      <td>Snohomish</td>\n",
       "      <td>Washington</td>\n",
       "      <td>1</td>\n",
       "      <td>0</td>\n",
       "    </tr>\n",
       "    <tr>\n",
       "      <th>3</th>\n",
       "      <td>3</td>\n",
       "      <td>24/01/2020</td>\n",
       "      <td>Cook</td>\n",
       "      <td>Illinois</td>\n",
       "      <td>1</td>\n",
       "      <td>0</td>\n",
       "    </tr>\n",
       "    <tr>\n",
       "      <th>4</th>\n",
       "      <td>4</td>\n",
       "      <td>24/01/2020</td>\n",
       "      <td>Snohomish</td>\n",
       "      <td>Washington</td>\n",
       "      <td>1</td>\n",
       "      <td>0</td>\n",
       "    </tr>\n",
       "    <tr>\n",
       "      <th>...</th>\n",
       "      <td>...</td>\n",
       "      <td>...</td>\n",
       "      <td>...</td>\n",
       "      <td>...</td>\n",
       "      <td>...</td>\n",
       "      <td>...</td>\n",
       "    </tr>\n",
       "    <tr>\n",
       "      <th>573333</th>\n",
       "      <td>573333</td>\n",
       "      <td>26/09/2020</td>\n",
       "      <td>Sweetwater</td>\n",
       "      <td>Wyoming</td>\n",
       "      <td>332</td>\n",
       "      <td>2</td>\n",
       "    </tr>\n",
       "    <tr>\n",
       "      <th>573334</th>\n",
       "      <td>573334</td>\n",
       "      <td>26/09/2020</td>\n",
       "      <td>Teton</td>\n",
       "      <td>Wyoming</td>\n",
       "      <td>536</td>\n",
       "      <td>1</td>\n",
       "    </tr>\n",
       "    <tr>\n",
       "      <th>573335</th>\n",
       "      <td>573335</td>\n",
       "      <td>26/09/2020</td>\n",
       "      <td>Uinta</td>\n",
       "      <td>Wyoming</td>\n",
       "      <td>350</td>\n",
       "      <td>2</td>\n",
       "    </tr>\n",
       "    <tr>\n",
       "      <th>573336</th>\n",
       "      <td>573336</td>\n",
       "      <td>26/09/2020</td>\n",
       "      <td>Washakie</td>\n",
       "      <td>Wyoming</td>\n",
       "      <td>113</td>\n",
       "      <td>6</td>\n",
       "    </tr>\n",
       "    <tr>\n",
       "      <th>573337</th>\n",
       "      <td>573337</td>\n",
       "      <td>26/09/2020</td>\n",
       "      <td>Weston</td>\n",
       "      <td>Wyoming</td>\n",
       "      <td>36</td>\n",
       "      <td>0</td>\n",
       "    </tr>\n",
       "  </tbody>\n",
       "</table>\n",
       "<p>573338 rows × 6 columns</p>\n",
       "</div>"
      ],
      "text/plain": [
       "        Unnamed: 0       Fecha      Ciudad      Estado  Contagios  Muertes\n",
       "0                0  21/01/2020   Snohomish  Washington          1        0\n",
       "1                1  22/01/2020   Snohomish  Washington          1        0\n",
       "2                2  23/01/2020   Snohomish  Washington          1        0\n",
       "3                3  24/01/2020        Cook    Illinois          1        0\n",
       "4                4  24/01/2020   Snohomish  Washington          1        0\n",
       "...            ...         ...         ...         ...        ...      ...\n",
       "573333      573333  26/09/2020  Sweetwater     Wyoming        332        2\n",
       "573334      573334  26/09/2020       Teton     Wyoming        536        1\n",
       "573335      573335  26/09/2020       Uinta     Wyoming        350        2\n",
       "573336      573336  26/09/2020    Washakie     Wyoming        113        6\n",
       "573337      573337  26/09/2020      Weston     Wyoming         36        0\n",
       "\n",
       "[573338 rows x 6 columns]"
      ]
     },
     "execution_count": 121,
     "metadata": {},
     "output_type": "execute_result"
    }
   ],
   "source": [
    "df= pd.read_csv('Covid19_data.csv')\n",
    "df"
   ]
  },
  {
   "cell_type": "code",
   "execution_count": 91,
   "metadata": {},
   "outputs": [
    {
     "data": {
      "image/png": "[encoded data removed]",
      "text/plain": [
       "<Figure size 432x288 with 1 Axes>"
      ]
     },
     "metadata": {},
     "output_type": "display_data"
    }
   ],
   "source": [
    "sums = df.groupby(df[\"Estado\"])[\"Contagios\"].sum().head(10)\n",
    "axis('equal');\n",
    "pie(sums, labels=sums.index);\n",
    "show()"
   ]
  },
  {
   "cell_type": "markdown",
   "metadata": {},
   "source": [
    "*La gráfica de pastel nos ayuda a visualizar, en este caso,la proporción que representan el número de contagios por cada estado de USA registrados en nuestra base de datos. Podemos ver que California es el estado con mayor número de contagios, seguido por Florida, mientras que los estados con menor cantidad de contagios son Alaska y el distrito de Columbia*"
   ]
  },
  {
   "cell_type": "code",
   "execution_count": 87,
   "metadata": {},
   "outputs": [
    {
     "data": {
      "image/png": "[encoded data removed]",
      "text/plain": [
       "<Figure size 432x288 with 1 Axes>"
      ]
     },
     "metadata": {},
     "output_type": "display_data"
    }
   ],
   "source": [
    "sums = df.groupby(df[\"Estado\"])[\"Muertes\"].sum().head(15)\n",
    "axis('equal');\n",
    "pie(sums, labels=sums.index);\n",
    "show()"
   ]
  },
  {
   "cell_type": "markdown",
   "metadata": {},
   "source": [
    "*En esta otra gráfica podemos observar la proporción de número de muertes por cada estado de USA registrados en nuestra base de datos. Vemos que California continua teniendo el primer lugar con mayor número de muertes seguido esta vez por Illinois, mientras que los estados con menor número de muertes son nuevamente Alaska y ahora Hawaii* "
   ]
  },
  {
   "cell_type": "markdown",
   "metadata": {},
   "source": [
    "*En conjunto con la gráfica anterior encontramos que la relación entre los casos de contagios y muertes no es directamente proporcional, ya que la proprción de muertes no depende exactamente de la proprción de contagios existentes*"
   ]
  },
  {
   "cell_type": "code",
   "execution_count": 143,
   "metadata": {},
   "outputs": [
    {
     "data": {
      "text/plain": [
       "<seaborn.axisgrid.FacetGrid at 0x19bf4a985b0>"
      ]
     },
     "execution_count": 143,
     "metadata": {},
     "output_type": "execute_result"
    },
    {
     "data": {
      "image/png": "[encoded data removed]",
      "text/plain": [
       "<Figure size 495x360 with 1 Axes>"
      ]
     },
     "metadata": {
      "needs_background": "light"
     },
     "output_type": "display_data"
    }
   ],
   "source": [
    "import seaborn as sns\n",
    "import matplotlib.pyplot as plt\n",
    "\n",
    "sns.lmplot(x='Contagios', y='Muertes', hue='Estado', \n",
    "           data=df.loc[df['Estado'].isin(['California','Arkansas','Arizona','Alaska','Alabama','Florida','District of Columbia','Connecticut','Colorado','Illinois','Georgia','Delaware'])], \n",
    "           fit_reg=False)"
   ]
  },
  {
   "cell_type": "markdown",
   "metadata": {},
   "source": [
    "*En esta gráfica podemos observar la dispersión que existe en relación a los casos de contagio y muertes respecto a los estados con mayor proporción vistos en las gráficas anteriores* "
   ]
  },
  {
   "cell_type": "code",
   "execution_count": 155,
   "metadata": {},
   "outputs": [
    {
     "data": {
      "image/png": "[encoded data removed]",
      "text/plain": [
       "<Figure size 432x288 with 1 Axes>"
      ]
     },
     "metadata": {
      "needs_background": "light"
     },
     "output_type": "display_data"
    }
   ],
   "source": [
    "cal = plt.hist(df[df[\"Estado\"] == \"California\"].Contagios,bins=30,fc = (1,0,0,0.5),label = \"California\")\n",
    "alk = plt.hist(df[df[\"Estado\"] == \"Alaska\"].Contagios,bins=30,fc = (0,1,0,0.5),label = \"Alaska\")\n",
    "il = plt.hist(df[df[\"Estado\"] == \"Illinois\"].Contagios,bins=30,fc = (0,0,1,0.5),label = \"Illinois\")\n",
    "ar = plt.hist(df[df[\"Estado\"] == \"Arizona\"].Contagios,bins=30,fc = (0,1,1,0.5),label = \"Arizona\")\n",
    "fl = plt.hist(df[df[\"Estado\"] == \"Florida\"].Contagios,bins=30,fc = (1,0,1,0.5),label = \"Florida\")\n",
    "ge = plt.hist(df[df[\"Estado\"] == \"Georgia\"].Contagios,bins=30,fc = (1,1,0,0.5),label = \"Georgia\")\n",
    "col = plt.hist(df[df[\"Estado\"] == \"olorado\"].Contagios,bins=30,fc = (0,1,0,0.5),label = \"Colorado\")\n",
    "dfc = plt.hist(df[df[\"Estado\"] == \"District of Columbia\"].Contagios,bins=30,fc = (1,1,0,0.5),label = \"District of Columbia\")\n",
    "con = plt.hist(df[df[\"Estado\"] == \"Connecticut\"].Contagios,bins=30,fc = (0,0,1,0.5),label = \"Connecticut\")\n",
    "ark = plt.hist(df[df[\"Estado\"] == \"Arkansas\"].Contagios,bins=30,fc = (1,0,1,0.5),label = \"Arkansas\")\n",
    "dlw = plt.hist(df[df[\"Estado\"] == \"Delaware\"].Contagios,bins=30,fc = (1,0,0,0.5),label = \"Delaware\")\n",
    "alb = plt.hist(df[df[\"Estado\"] == \"Alabama\"].Contagios,bins=30,fc = (1,1,0,0.5),label = \"Alabama\")\n",
    "plt.legend()\n",
    "plt.xlabel(\"Contagios por Covid-19\")\n",
    "plt.ylabel(\"Frecuencia\")\n",
    "plt.title(\"Histograma\")\n",
    "plt.show()"
   ]
  },
  {
   "cell_type": "markdown",
   "metadata": {},
   "source": [
    "*Esta última gráfica nos muestra la frecuencia de los casos de contagio por **covid-19** en los estádos con mayor proporción según las primeras gráficas*"
   ]
  },
  {
   "cell_type": "markdown",
   "metadata": {},
   "source": [
    "### Conclusión\n",
    "Con la práctica de este avance tuvimos la oportunidad de darle mayor sentido a nuestros objetivos por cumplir observando el manejo y el comportamiento de los datos. Efectivamente, fue necesario cambiar algunas estrategías para poder analizar lo que esperamos obtener al finalizar nuestro proyecto. Aún faltan ajustes por realizar y prácticas que son necesarias para lograr cumplir todos nuestros objetivos, pero con la información manejada hasta ahora podemos concluir que nuestra base de datos ayuda a obtener suficiente información y por lo menos podremos cumplir con más de uno de los objetivo propuestos. "
   ]
  },
  {
   "cell_type": "code",
   "execution_count": null,
   "metadata": {},
   "outputs": [],
   "source": []
  }
 ],
 "metadata": {
  "kernelspec": {
   "display_name": "Python 3",
   "language": "python",
   "name": "python3"
  },
  "language_info": {
   "codemirror_mode": {
    "name": "ipython",
    "version": 3
   },
   "file_extension": ".py",
   "mimetype": "text/x-python",
   "name": "python",
   "nbconvert_exporter": "python",
   "pygments_lexer": "ipython3",
   "version": "3.8.3"
  }
 },
 "nbformat": 4,
 "nbformat_minor": 4
}
