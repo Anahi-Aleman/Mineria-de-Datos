{
 "cells": [
  {
   "cell_type": "code",
   "execution_count": 11,
   "metadata": {},
   "outputs": [],
   "source": [
    "from sklearn.cluster import KMeans\n",
    "from sklearn import metrics\n",
    "import numpy as np"
   ]
  },
  {
   "cell_type": "code",
   "execution_count": 12,
   "metadata": {},
   "outputs": [],
   "source": [
    "#X = [[3,5],[1,4],[1,6],[2,6],[1,5],[6,8],[6,6],[6,7],[5,6],[6,7],[7,1],[8,2],[9,1],[8,2],[9,3],[9,2],[8,3], ...]\n",
    "\n",
    "v1=[0, 3, 1, 1, 2, 1, 6, 6, 5, 6, 7, 5, 6, 7, 8, 10, 9, 8, 9, 9, 9, 11, 13, 9, 15, 14, 13, 12, 14, 12]\n",
    "v2=[5, 5, 4, 6, 6, 5, 8, 6, 7, 7, 7, 6, 7, 1, 2, 0, 1, 2, 3, 2, 3, 12, 11, 10, 13, 12, 13, 10, 10, 11]\n",
    "\n",
    "x1 = np.array(v1)\n",
    "x2 = np.array(v2)\n",
    "\n"
   ]
  },
  {
   "cell_type": "code",
   "execution_count": 13,
   "metadata": {},
   "outputs": [
    {
     "name": "stdout",
     "output_type": "stream",
     "text": [
      "[[ 0  5]\n",
      " [ 3  5]\n",
      " [ 1  4]\n",
      " [ 1  6]\n",
      " [ 2  6]\n",
      " [ 1  5]\n",
      " [ 6  8]\n",
      " [ 6  6]\n",
      " [ 5  7]\n",
      " [ 6  7]\n",
      " [ 7  7]\n",
      " [ 5  6]\n",
      " [ 6  7]\n",
      " [ 7  1]\n",
      " [ 8  2]\n",
      " [10  0]\n",
      " [ 9  1]\n",
      " [ 8  2]\n",
      " [ 9  3]\n",
      " [ 9  2]\n",
      " [ 9  3]\n",
      " [11 12]\n",
      " [13 11]\n",
      " [ 9 10]\n",
      " [15 13]\n",
      " [14 12]\n",
      " [13 13]\n",
      " [12 10]\n",
      " [14 10]\n",
      " [12 11]]\n"
     ]
    },
    {
     "data": {
      "image/png": "[encoded data removed]",
      "text/plain": [
       "<Figure size 432x288 with 1 Axes>"
      ]
     },
     "metadata": {
      "needs_background": "light"
     },
     "output_type": "display_data"
    }
   ],
   "source": [
    "X = np.array(list(zip(x1, x2))).reshape(len(x1), 2)\n",
    "print(X)\n",
    "\n",
    "import matplotlib.pyplot as plt\n",
    "plt.plot(v1, v2, 'ro')\n",
    "plt.axis([-1, 16, -1, 15]) #Eje x: de -1 a 16; Eje Y: de -1 a 15\n",
    "plt.show()"
   ]
  },
  {
   "cell_type": "code",
   "execution_count": 14,
   "metadata": {},
   "outputs": [],
   "source": [
    "#Algoritmo K-Means \n",
    "K = 4 \n",
    "kmeans_model = KMeans(n_clusters=K).fit(X)"
   ]
  },
  {
   "cell_type": "code",
   "execution_count": 17,
   "metadata": {},
   "outputs": [
    {
     "name": "stdout",
     "output_type": "stream",
     "text": [
      "(x1,x2) -> Clase\n",
      "(0,5) ->:0\n",
      "(x1,x2) -> Clase\n",
      "(3,5) ->:0\n",
      "(x1,x2) -> Clase\n",
      "(1,4) ->:0\n",
      "(x1,x2) -> Clase\n",
      "(1,6) ->:0\n",
      "(x1,x2) -> Clase\n",
      "(2,6) ->:0\n",
      "(x1,x2) -> Clase\n",
      "(1,5) ->:0\n",
      "(x1,x2) -> Clase\n",
      "(6,8) ->:3\n",
      "(x1,x2) -> Clase\n",
      "(6,6) ->:3\n",
      "(x1,x2) -> Clase\n",
      "(5,7) ->:3\n",
      "(x1,x2) -> Clase\n",
      "(6,7) ->:3\n",
      "(x1,x2) -> Clase\n",
      "(7,7) ->:3\n",
      "(x1,x2) -> Clase\n",
      "(5,6) ->:3\n",
      "(x1,x2) -> Clase\n",
      "(6,7) ->:3\n",
      "(x1,x2) -> Clase\n",
      "(7,1) ->:2\n",
      "(x1,x2) -> Clase\n",
      "(8,2) ->:2\n",
      "(x1,x2) -> Clase\n",
      "(10,0) ->:2\n",
      "(x1,x2) -> Clase\n",
      "(9,1) ->:2\n",
      "(x1,x2) -> Clase\n",
      "(8,2) ->:2\n",
      "(x1,x2) -> Clase\n",
      "(9,3) ->:2\n",
      "(x1,x2) -> Clase\n",
      "(9,2) ->:2\n",
      "(x1,x2) -> Clase\n",
      "(9,3) ->:2\n",
      "(x1,x2) -> Clase\n",
      "(11,12) ->:1\n",
      "(x1,x2) -> Clase\n",
      "(13,11) ->:1\n",
      "(x1,x2) -> Clase\n",
      "(9,10) ->:1\n",
      "(x1,x2) -> Clase\n",
      "(15,13) ->:1\n",
      "(x1,x2) -> Clase\n",
      "(14,12) ->:1\n",
      "(x1,x2) -> Clase\n",
      "(13,13) ->:1\n",
      "(x1,x2) -> Clase\n",
      "(12,10) ->:1\n",
      "(x1,x2) -> Clase\n",
      "(14,10) ->:1\n",
      "(x1,x2) -> Clase\n",
      "(12,11) ->:1\n"
     ]
    }
   ],
   "source": [
    "for i, l in enumerate(kmeans_model.labels_):\n",
    "    print(\"(x1,x2) -> Clase\")\n",
    "    print(\"({0},{1}) ->:{2}\".format(x1[i], x2[i], l))"
   ]
  },
  {
   "cell_type": "code",
   "execution_count": 19,
   "metadata": {},
   "outputs": [
    {
     "name": "stdout",
     "output_type": "stream",
     "text": [
      "[0 0 0 0 0 0 3 3 3 3 3 3 3 2 2 2 2 2 2 2 2 1 1 1 1 1 1 1 1 1]\n"
     ]
    }
   ],
   "source": [
    "predicciones = kmeans_model.predict(X)\n",
    "print(predicciones)"
   ]
  },
  {
   "cell_type": "code",
   "execution_count": 20,
   "metadata": {},
   "outputs": [
    {
     "name": "stdout",
     "output_type": "stream",
     "text": [
      "Prediccion [[10, 15]]->[1]\n"
     ]
    }
   ],
   "source": [
    "test=[[10,15]]\n",
    "prediccion = kmeans_model.predict(test)\n",
    "print(\"Prediccion {0}->{1}\".format(test,prediccion))"
   ]
  },
  {
   "cell_type": "code",
   "execution_count": 21,
   "metadata": {},
   "outputs": [
    {
     "name": "stdout",
     "output_type": "stream",
     "text": [
      "[1 3 2 0]\n"
     ]
    }
   ],
   "source": [
    "x1 = np.array([2, 5, 8, 12])\n",
    "x2 = np.array([5, 5, 4, 14])\n",
    "\n",
    "X = np.array(list(zip(x1, x2))).reshape(len(x1), 2)\n",
    "prediccion = kmeans_model.fit_predict(X)\n",
    "print(prediccion)"
   ]
  },
  {
   "cell_type": "code",
   "execution_count": 22,
   "metadata": {},
   "outputs": [
    {
     "name": "stdout",
     "output_type": "stream",
     "text": [
      "[[12. 14.]\n",
      " [ 2.  5.]\n",
      " [ 8.  4.]\n",
      " [ 5.  5.]]\n"
     ]
    }
   ],
   "source": [
    "print(kmeans_model.cluster_centers_)"
   ]
  }
 ],
 "metadata": {
  "kernelspec": {
   "display_name": "Python 3",
   "language": "python",
   "name": "python3"
  },
  "language_info": {
   "codemirror_mode": {
    "name": "ipython",
    "version": 3
   },
   "file_extension": ".py",
   "mimetype": "text/x-python",
   "name": "python",
   "nbconvert_exporter": "python",
   "pygments_lexer": "ipython3",
   "version": "3.7.4"
  }
 },
 "nbformat": 4,
 "nbformat_minor": 2
}
